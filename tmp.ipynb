{
 "cells": [
  {
   "cell_type": "code",
   "execution_count": 1,
   "metadata": {},
   "outputs": [],
   "source": [
    "from seeker.project_config import ProjectConfig\n"
   ]
  },
  {
   "cell_type": "code",
   "execution_count": 2,
   "metadata": {},
   "outputs": [],
   "source": [
    "conf = ProjectConfig.from_name(name=\"kövek\")\n"
   ]
  },
  {
   "cell_type": "code",
   "execution_count": 4,
   "metadata": {},
   "outputs": [
    {
     "data": {
      "text/plain": [
       "8791632"
      ]
     },
     "execution_count": 4,
     "metadata": {},
     "output_type": "execute_result"
    }
   ],
   "source": [
    "conf.get_file_size()"
   ]
  },
  {
   "cell_type": "markdown",
   "metadata": {},
   "source": [
    "------"
   ]
  },
  {
   "cell_type": "markdown",
   "metadata": {},
   "source": [
    "--------"
   ]
  },
  {
   "cell_type": "code",
   "execution_count": 26,
   "metadata": {},
   "outputs": [],
   "source": [
    "import cv2\n",
    "from pathlib import Path\n",
    "import numpy as np\n",
    "import pandas as pd"
   ]
  },
  {
   "cell_type": "code",
   "execution_count": 3,
   "metadata": {},
   "outputs": [],
   "source": [
    "def read_file(path: \"Path\"):\n",
    "    return cv2.cvtColor(cv2.imread(filename=path.as_posix()), cv2.COLOR_BGR2RGB)\n"
   ]
  },
  {
   "cell_type": "code",
   "execution_count": 10,
   "metadata": {},
   "outputs": [],
   "source": [
    "img = read_file(Path(\"data/projects/08760ef755ac2fd0a141c9814099890b/0028(2).jpg\"))\n"
   ]
  },
  {
   "cell_type": "code",
   "execution_count": 18,
   "metadata": {},
   "outputs": [],
   "source": [
    "pixels = np.float32(img.reshape(-1, 3))\n",
    "pixels = pixels[np.random.choice(pixels.shape[0], 100_000), :]\n",
    "n_colors = 5\n",
    "criteria = (cv2.TERM_CRITERIA_EPS + cv2.TERM_CRITERIA_MAX_ITER, 200, 0.1)\n",
    "flags = cv2.KMEANS_RANDOM_CENTERS\n"
   ]
  },
  {
   "cell_type": "code",
   "execution_count": 23,
   "metadata": {},
   "outputs": [],
   "source": [
    "_, labels, palette = cv2.kmeans(data=pixels, K=n_colors, bestLabels=None, criteria=criteria, attempts=5, flags=flags)\n",
    "_, counts = np.unique(ar=labels, return_counts=True)\n",
    "dominant = palette[np.argmax(counts)]"
   ]
  },
  {
   "cell_type": "code",
   "execution_count": 54,
   "metadata": {},
   "outputs": [],
   "source": [
    "def rgb_hex_to_dec(rgb_hex: str):\n",
    "    rgb_hex = rgb_hex.strip(\"#\")\n",
    "    r, g, b = [int(rgb_hex[c * 2 : c * 2 + 2], base=16) for c in range(3)]\n",
    "    return np.array([r, g, b], dtype=np.float32)"
   ]
  },
  {
   "cell_type": "code",
   "execution_count": 55,
   "metadata": {},
   "outputs": [
    {
     "data": {
      "text/plain": [
       "array([  0., 255., 170.], dtype=float32)"
      ]
     },
     "execution_count": 55,
     "metadata": {},
     "output_type": "execute_result"
    }
   ],
   "source": [
    "rgb_hex_to_dec('#00ffaa')"
   ]
  },
  {
   "cell_type": "code",
   "execution_count": 32,
   "metadata": {},
   "outputs": [
    {
     "data": {
      "text/plain": [
       "255"
      ]
     },
     "execution_count": 32,
     "metadata": {},
     "output_type": "execute_result"
    }
   ],
   "source": [
    "int('ff', base=16)"
   ]
  },
  {
   "cell_type": "code",
   "execution_count": null,
   "metadata": {},
   "outputs": [],
   "source": [
    "#773f3f"
   ]
  },
  {
   "cell_type": "code",
   "execution_count": 24,
   "metadata": {},
   "outputs": [
    {
     "data": {
      "text/plain": [
       "array([84.5136  , 88.475784, 88.30139 ], dtype=float32)"
      ]
     },
     "execution_count": 24,
     "metadata": {},
     "output_type": "execute_result"
    }
   ],
   "source": [
    "dominant"
   ]
  },
  {
   "cell_type": "code",
   "execution_count": 30,
   "metadata": {},
   "outputs": [
    {
     "ename": "IndexError",
     "evalue": "list index out of range",
     "output_type": "error",
     "traceback": [
      "\u001b[0;31m---------------------------------------------------------------------------\u001b[0m",
      "\u001b[0;31mIndexError\u001b[0m                                Traceback (most recent call last)",
      "\u001b[1;32m/homeEury/Bigdata/online_media/seeker/tmp.ipynb Cell 39'\u001b[0m in \u001b[0;36m<cell line: 1>\u001b[0;34m()\u001b[0m\n\u001b[0;32m----> <a href='vscode-notebook-cell://ssh-remote%2Beuryserver/homeEury/Bigdata/online_media/seeker/tmp.ipynb#ch0000040vscode-remote?line=0'>1</a>\u001b[0m \u001b[39mstr\u001b[39;49m(img)\u001b[39m.\u001b[39;49msplit(\u001b[39m\"\u001b[39;49m\u001b[39m/\u001b[39;49m\u001b[39m\"\u001b[39;49m)[\u001b[39m1\u001b[39;49m]\n",
      "\u001b[0;31mIndexError\u001b[0m: list index out of range"
     ]
    }
   ],
   "source": []
  },
  {
   "cell_type": "code",
   "execution_count": 27,
   "metadata": {},
   "outputs": [
    {
     "ename": "IndexError",
     "evalue": "list index out of range",
     "output_type": "error",
     "traceback": [
      "\u001b[0;31m---------------------------------------------------------------------------\u001b[0m",
      "\u001b[0;31mIndexError\u001b[0m                                Traceback (most recent call last)",
      "\u001b[1;32m/homeEury/Bigdata/online_media/seeker/tmp.ipynb Cell 39'\u001b[0m in \u001b[0;36m<cell line: 1>\u001b[0;34m()\u001b[0m\n\u001b[1;32m      <a href='vscode-notebook-cell://ssh-remote%2Beuryserver/homeEury/Bigdata/online_media/seeker/tmp.ipynb#ch0000036vscode-remote?line=0'>1</a>\u001b[0m data \u001b[39m=\u001b[39m pd\u001b[39m.\u001b[39mDataFrame(\n\u001b[1;32m      <a href='vscode-notebook-cell://ssh-remote%2Beuryserver/homeEury/Bigdata/online_media/seeker/tmp.ipynb#ch0000036vscode-remote?line=1'>2</a>\u001b[0m     np\u001b[39m.\u001b[39mappend(dominant\u001b[39m.\u001b[39mtolist(), np\u001b[39m.\u001b[39mmax(counts) \u001b[39m/\u001b[39m \u001b[39msum\u001b[39m(counts))\u001b[39m.\u001b[39mreshape(\u001b[39m1\u001b[39m, \u001b[39m-\u001b[39m\u001b[39m1\u001b[39m),\n\u001b[0;32m----> <a href='vscode-notebook-cell://ssh-remote%2Beuryserver/homeEury/Bigdata/online_media/seeker/tmp.ipynb#ch0000036vscode-remote?line=2'>3</a>\u001b[0m     index\u001b[39m=\u001b[39m[\u001b[39mstr\u001b[39m(\u001b[39mstr\u001b[39;49m(img)\u001b[39m.\u001b[39;49msplit(\u001b[39m\"\u001b[39;49m\u001b[39m/\u001b[39;49m\u001b[39m\"\u001b[39;49m)[\u001b[39m1\u001b[39;49m])],\n\u001b[1;32m      <a href='vscode-notebook-cell://ssh-remote%2Beuryserver/homeEury/Bigdata/online_media/seeker/tmp.ipynb#ch0000036vscode-remote?line=3'>4</a>\u001b[0m     columns\u001b[39m=\u001b[39mdata\u001b[39m.\u001b[39mcolumns,\n\u001b[1;32m      <a href='vscode-notebook-cell://ssh-remote%2Beuryserver/homeEury/Bigdata/online_media/seeker/tmp.ipynb#ch0000036vscode-remote?line=4'>5</a>\u001b[0m )\n",
      "\u001b[0;31mIndexError\u001b[0m: list index out of range"
     ]
    }
   ],
   "source": [
    "data = pd.DataFrame(\n",
    "    np.append(dominant.tolist(), np.max(counts) / sum(counts)).reshape(1, -1),\n",
    "    index=[str(str(img).split(\"/\")[1])],\n",
    "    columns=data.columns,\n",
    ")"
   ]
  }
 ],
 "metadata": {
  "kernelspec": {
   "display_name": "Python 3.8.10 ('venv': venv)",
   "language": "python",
   "name": "python3"
  },
  "language_info": {
   "codemirror_mode": {
    "name": "ipython",
    "version": 3
   },
   "file_extension": ".py",
   "mimetype": "text/x-python",
   "name": "python",
   "nbconvert_exporter": "python",
   "pygments_lexer": "ipython3",
   "version": "3.8.10"
  },
  "orig_nbformat": 4,
  "vscode": {
   "interpreter": {
    "hash": "cec90501557b8955797d8abcde3327dc906aebfcccf86cc129aad80e13979fc6"
   }
  }
 },
 "nbformat": 4,
 "nbformat_minor": 2
}
