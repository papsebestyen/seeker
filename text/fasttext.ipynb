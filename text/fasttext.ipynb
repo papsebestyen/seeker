{
 "cells": [
  {
   "cell_type": "code",
   "execution_count": 148,
   "id": "1ddf2225",
   "metadata": {},
   "outputs": [],
   "source": [
    "from gensim.models.fasttext import FastText \n",
    "from gensim.models.fasttext import load_facebook_model\n",
    "import textract\n",
    "import os\n",
    "import numpy as np\n",
    "import pandas as pd\n",
    "from scipy.spatial import distance\n",
    "from scipy.spatial import cKDTree\n",
    "from gensim.utils import tokenize"
   ]
  },
  {
   "cell_type": "markdown",
   "id": "ea847c44",
   "metadata": {},
   "source": [
    "#### Betöltjük az előre trainelt modell-t. "
   ]
  },
  {
   "cell_type": "code",
   "execution_count": 8,
   "id": "d69079ce",
   "metadata": {},
   "outputs": [],
   "source": [
    "#from gensim.models.wrappers import FastText\n",
    "model = load_facebook_model('hu.szte.w2v.fasttext.bin')"
   ]
  },
  {
   "cell_type": "markdown",
   "id": "395a2e7a",
   "metadata": {},
   "source": [
    "#### Docx-ből vektort és azért a stringet is kimentjük"
   ]
  },
  {
   "cell_type": "code",
   "execution_count": 180,
   "id": "e66472e4",
   "metadata": {},
   "outputs": [],
   "source": [
    "def vec_from_doc(file_name, path,  model):\n",
    "    doc = (\n",
    "        textract.process(\n",
    "            f\"{path}{file_name}\"\n",
    "        )\n",
    "        .decode(\"UTF-8\")\n",
    "        .replace(\"\\n\", \" \")\n",
    "    )\n",
    "    tokens = tokenize(doc)\n",
    "    return np.nanmean(\n",
    "        np.array([model.wv.get_vector(word) for word in tokens]), axis=0\n",
    "    ), doc"
   ]
  },
  {
   "cell_type": "code",
   "execution_count": null,
   "id": "7f76afb7",
   "metadata": {},
   "outputs": [],
   "source": [
    "def read_file(path: \"Path\"):\n",
    "    doc = textract.process(path).decode(\"UTF-8\").replace(\"\\n\", \" \")\n",
    "    tokens = tokenize(doc)\n",
    "    return tokens"
   ]
  },
  {
   "cell_type": "code",
   "execution_count": null,
   "id": "f648bdbf",
   "metadata": {},
   "outputs": [],
   "source": [
    "def preprocess(data: str):\n",
    "    return np.nanmean(np.array([model.wv.get_vector(word) for word in data]), axis=0)"
   ]
  },
  {
   "cell_type": "code",
   "execution_count": 181,
   "id": "996f90cb",
   "metadata": {},
   "outputs": [
    {
     "data": {
      "text/plain": [
       "(array([ 0.14983901,  0.00728403, -0.33202073, -0.17792599, -0.13978693,\n",
       "         0.2790506 , -0.3863321 ,  0.4437692 ,  0.1608899 ,  0.12469662,\n",
       "         0.11414205,  0.22634624,  0.11562079, -0.0050722 ,  0.10140495,\n",
       "        -0.02007807,  0.01767357,  0.04711197,  0.13859391,  0.11500996,\n",
       "        -0.20400965,  0.5022982 ,  0.08677439, -0.02925756, -0.24510187,\n",
       "        -0.08528614, -0.10353771, -0.0958731 ,  0.25796884,  0.11443552,\n",
       "        -0.13152488, -0.32832485,  0.03032782, -0.32483742, -0.16829903,\n",
       "         0.15230997,  0.24770936,  0.2539921 , -0.05800712, -0.2669947 ,\n",
       "        -0.35128066,  0.22344719,  0.32683665, -0.2501549 ,  0.40868032,\n",
       "         0.00272824,  0.26762235,  0.0685553 ,  0.00833303, -0.19104186,\n",
       "        -0.08584382, -0.06062605,  0.1608772 , -0.00586115, -0.13097273,\n",
       "         0.2106476 , -0.07195537, -0.08077479,  0.25442708,  0.09445832,\n",
       "         0.15499575, -0.03155251,  0.15755098, -0.12185497,  0.08114625,\n",
       "         0.07388381,  0.05464004, -0.01579667,  0.0706781 , -0.2867329 ,\n",
       "        -0.1281882 ,  0.22532043, -0.06721391, -0.31822816, -0.13216038,\n",
       "         0.14435823,  0.3171867 ,  0.14286834,  0.14596523,  0.07778377,\n",
       "         0.00182811,  0.30103594,  0.03669923,  0.3968035 ,  0.11222456,\n",
       "         0.02337317, -0.05056688, -0.03293103, -0.05259458, -0.27365872,\n",
       "         0.32226047, -0.08812808, -0.06688313, -0.05012633, -0.01687936,\n",
       "        -0.09856048, -0.05878915, -0.196792  , -0.06125606, -0.05646665],\n",
       "       dtype=float32),\n",
       " 'Alakulási buli nem lesz, elhalasztjuk. Vasárnap estig mindenkinek ki kell költözni. Rektori kérelemmel lehet maradni a kolikban azoknak, akik nem tudnak hazamenni. (Idős rokonok miatt mondjuk). Később kezdtem a jegyzőt írni, bocsi.  Lesz DB és a DB tagok együtt lesznek. Március 16-i DB-t a Kiállítóban fogjuk tartani.    Barta Marci: Legyen minden, arról gondolkodjunk, hogy mit hogyan fogunk csinálni. Vannak viszont hangulati elemek, pl plakettosztó. Ezeket nem lehet online megcsinálni. Végzős hétvége, azt mondjuk augusztusban is lehet tartani. (vagy szabadtéren) Minden, amit lehet pótoljunk, amit nem, azt halasszuk. A felvételiről való gondolkodás bonyolult.     Laczkó: Ha azt mondjuk, hogy van felvételi, akkor a rekrutációt újra gondolni. Ha eltoljuk, akkor más az időtáv. A belső működésről is gondolkozzunk, online térben vitázzunk, mert nem nagyon leszünk együtt. A felvételire jók a videók, de sok apró cucc van. Hogyan takarítunk, hogyan rakunk rendet. Ilyenek lesznek.     Bogi: Kollégium szellemiségét hogy tartjuk fenn, ez a fontos. DB stratégiai pontjait is valahogy kreatív formákban pörgetni kell. Mindenkis viták pl. Tartunk DB-t, de hogy tartsuk? De a legkritikusabb a közösségi hangulat fenntartása szerintem.     Kofi: Konkrétabban mondjuk ki, hogy a holnapi vacsi oké-e vagy nem. Vasárnap estig akkor mondjuk ki, hogy ez a határidő (ezt már korábban megbeszéltük). Online játékok → csocsó és ulti pl. Challengeket csinálni. Kolid-19 challenge - küldj egy videót magadról pizsiben. A felvételit is eltolhatnánk szerintem, legalább kipróbálnánk azt is, mondjuk a szeptemberig. Április végétől későbbre nem mondanék semmi konkrétat, de addig igen.     Artúr: Alakítsuk át a formákat vagy toljuk el őket? Arra fókuszáljunk, hogy a következő hétben miket kell megcsinálni. Rektorhelyettesi levélre, pakolásra rá kell venni az embereket. Lehet puhán, ahogy Főzi is mondta. Minden kurzus ugye legyen online formában. A bizottságok is ugyanúgy működjenek, nem szabad őket elengedni (erről is volt szó korábban). Ez a legfontosabb. Nagyobb %-ban toljuk a marketinget online! Rekrutáció nagyon fontos.     Hobi: Jó érzés, hogy vannak ötleteitek. Marci három elvét én is jónak tartom. Az a minimum, ami fenntartja a kontinuitást és biztonságos, ennek kell meglenni. És ez a DB működése, a DB-nek össze kell jönni. A közösségben a DB olyasmiket nyomasson, hogy felküld egy excelt, ahol nyolc hely van, és ilyenkor lehet találkozni egymással. Éttermek nyitva lesznek meg kis színházak is működnek. Tudja mindenki, hogy hol tud csatlakozni, az is, aki nem bizottsági tag!    Főzi: Egyszerre kell határozottnak lenni, ami nyugalmat és határozottságot sugároz. De rugalmasnak is kell lenni. Nehéz lesz. Ne flexeljünk feleslegesen sokat, a működést tartsuk fenn. De, ha az egész társadalom működése leáll, akkor lehet, hogy nem kell erőltetni minden bizottság működését. Lehet törekedni arra, hogy mindent megcsináljunk abba, ami kell, de ne legyen erőltetett. Nem fogják egy idő után komolyan venni. Biztos, hogy mindenből kevesebb lesz, ne akarjunk mindent helyettesíteni valamivel, ami online. Konkrétumokat szerintem nem kell kitalálnunk. Diákbizottsági ülés sok threadből álljon? És nem kell bejönni feltétlenül. Legyenek bátor innovációk.     AAnna: Emberek fel fognak járni vidékről Budapestre, ezt tartsuk szem előtt. Mik azok a dolgok, amiket nem akarunk megcsinálni. Azon gondolkodjunk, hogy mennyit legyenek egy térben az emberek. El tudom képzelni, hogy be fognak jönni emberek. A fizikai együttlétet érdemes lenni keretezni. A bizottságoknak bőven lenne annyi ereje, hogy elővegyenek olyan dolgokat, amiket korábban nem. Arra kéne fórumot teremteni, hogy ezt az infot ne csak egy emailről kapják meg, hanem legyen normális megbeszélés, érdemes lenne erre holnap időt szakítani.     BíróMarci: Szerintem nem ütjük le azokat a dolgokat, amik igazán fontosak. Inkább arra figyeljünk, hogy hogy fogunk elmenni, ki fog maradni. Konkrét megoldások szükségtelen egyelőre majd a hosszútávú működésre. Az egyetlen biztos pont, amiben meg kell állapodnunk az a DB, és ezt a klasszikus formában is kéne megtartani. De a kreatívabb javaslatokat majd később beszéljük.     Kofi: Strukturáljunk most inkább.     Hobi: Holnapi fórum pl elég jó ötlet szerintem. De most kell ezekre a kreatív ötletekre is időt szánni. Kérdés volt, hogy egyértelmű-e a bizottságok működése és a DB működése? Ebben is egyetértettünk.     Kofi: Ha lesznek pontok, amik kérdésesebbek, akkor ezeket most egyben beszélhetnénk meg. Elemenként haladjunk. Ha azt mondanánk, hogy 8 fő alatt találkozni, akkor az pár kurzust offol, de párat nem. Ezeket egymásra reagálva beszéljük meg. A rugalmasság szerintem is fontos, de üssünk le pár dolgot.     Gábor: Az mennyire biztos, hogy hányan maradnak itt?     Attila: Csak rektori helyettesi engedéllyel lehet itt maradni. De nem tudjuk, hogy pontosan hányan lesznek itt. Ez lehet, hogy majd felpuhul egy idő után.     Gábor: Hol lesznek akkor az emberek? Milyen módon fognak az emberek face to face érintkezni?    Hobi: DB nem támogatja a nagy közös egy térben levést. A harminc ember összejövetelét a Kisüzemben nem tudjuk megakadályozni, de nem fogjuk szorgalmazni.    Attila: Erről elvileg holnap lesz szabályozás. A kollégiumban most nem lehet lakni. és nem lehet x főnél nagyobb rendezvényt szervezni.    Barta Marci: Általában országosan 100 fő nem lehet, de az egyetemen 50 főnél nem lehet nagyobb rendezvény. Az egyetemen intézmény látogatási tilalom van és az oktatási tevékenységet be kell szüntetni. Emberek közötti találkozások számát csökkenteni kell. A kurzusokat nem szabad face to face megtartani.     Attila: akkor most vegyük végig azokat a konkrét pontokat, amikben meg kell állapodni. Nyári táborig milyen intézkedést hozunk. Nyári tábort és felvételit megartjuk. Kurzusok lesznek, de online. A beszámolókat is megtartjuk. Más rendezvényeket lemondunk. Kell szólni a TT-nek, Voszk elnökségi ülés sem lesz. Koligyűlés szabadtéren még lehet, hogy lesz, erre visszatérünk majd. A DB ugyanúgy ülésezzen. hétfőn majd újra elővesszük a kérdést.    Papik: DB formájáról nem egyeztetek meg szerintem. A DB tagok oké, hogy legyenek egy helyen, de más ne. Kollégisták tök jó, ha találkoznak, de ha valaki nem jöhet fel, mert messze kell mennie, az szar érzés lesz neki.     Lesz DB és a DB tagok együtt lesznek. Március 16-i DB-t a Kiállítóban fogjuk tartani.    Főzi: Szerintem, ha itt hétről-hétre DB-t fogunk tartani, akkor be fognak jönni a kollégisták. Fenntartjuk azt a hangulatot, hogy a Kollégiumban vannak dolgok.     Kofi: Tartást nem csak az tudja egyedül, hogy nem kell itt lennünk. Hippokrata dolognak tűnik nekem ez. Megtarthatnánk akkor ezt külön-külön is.    Laczkó: Praktikus okai vannak, hogy könnyebb, ha mi egy helyen vagyunk. De nem kell a kollégiumban lenni.    Kofi: Nekem fontos ez az üzenet.     Hobi: Én nem félek annyira, hogy nagyon sokan lesznek. És látom ebben azt a rugalmasságot, hogy, ha ez tényleg para lesz, akkor majd változtatunk.    Zsuzsi: Én személyesen tartanám, de nem a Kollégiumban.     AAnna: Szerintem ez most túl van pánikolva. Én örülök, ha 20 ember megjelenik egy ilyenen. De ez amúgy szerintem nem probléma, inkább jó.    Főzi: Főbb döntések megvannak szerintem, alapvető gondolatok is megvannak. Az elkövetkező napokban ezek mögé konkrétumokat kell rakni.     Kofi: Vasárnapig akkor mit kommunikáljunk a kis rendezvényekről?    Főzi: Mondjuk, hogy vasárnap estig a kollégium vezetése nem támogatja ezeknek az együttléteknek a metartását. Hétfő reggeltől pedig ezeket meg fogjuk akadályozn (szebben megfogalmazva)i. Nem lehetnek ilyenek. Minden olyan dolgot, amire külső személyek jöhetnek azokat lefújjuk. (helleresek pl ne jöjjenek át).    Ezzel egyetértünk mind.     Hobi: Őszinte kommunikáció szerintem az, hogy ezt a vacsit holnap tartsátok meg, de utána ne legyen több.    Attila: Szerintem Főzi megfogalmazása teljesen jó. A nem támogatás kulcsszó. Vasárnap estig mindenkinek el kell költözni/ beadni a kérvényt. Amíg a kérvények beadásáig nem kapnak választ, azoknak van joguk itt tartózkodni.    BíróMarci: Gondolom akkor peti ír ma erről emailt. Lehet, hogy érdemes a szinteken a nagy ellenállást kivédeni finoman és kedvesen. Következő hónapokban az események felsorolása legyen meg, hogy tudjunk ezekkel foglalkozni.    Főzi: Ezeket a konfliktusokat le kell menedzselni a kollégiumban. Ezeket nektek kell elkezdeni. Ha ez sok, akkor szóljatok, és igyekszünk segíteni. Erőst fogunk játszani, és fel fogunk lépni, hogy segítsünk Nektek. Az erős konfliktusokat nem nektek kell felvállalni. A nagyon komolyan mi leszünk. Szívesen bejövök néha, hogy megnézzem, mi a fasz van. Ha valaki nem akar kiköltözni, akkor megmondjuk, hogy menjenek el.    Artúr: Nem lesz elég egy email. Beszélni is kell az emberekkel.    Bogi: Van pár ember, aki már hazamentek. És van pár, aki meg nagyon nem akar elmenni. De egyébként szerintem, ha higgadtan kommunikáljuk ezeket, akkor nem lesz hatalmas gond, meg fogják érteni. Ezért fontos, hogy mindenki tudja, hogy most itt ülünk. Igen, ezt kommunikáljuk, de nem lesznek hatalmas problémák.    Hobi: Ideális lenne egy holnapi beszélgetés, mert ez az ilyen típusú feszültségeket oldja. Egy helyen ki tudnak jönni az ellenérzések. Megértik, hogy ezt mi sem akarjuk. Közösségi levezető beszélgetésre gondolok a pincében.    AAnna: Ma biztosan tetőzni fog ez. Az átgondolt leírással nem kell annyira sietni. Egy ilyen alap base linet szerintem érdemes elmondani, amit Marci csinált. Hogy nem kérdés, hogy ki kell költözni.    Laczkovich: Sok dolog nem fog megtörténni, de sokan akik itt akarnak maradni, azok itt kicsit a lelassullt világ mellett akarnak itt maradni. Online lehetőséget kell teremtenünk arra, hogy ezek megtörténjenek. Várják nagyon a dolgot és már be vannak rúgva. Sokan nem akarnak elmnenni.    Főzi: Nem szívesen csinálnék olyan fórumot, ahol személyesen ezekről a dolgokról beszélgetünk. Ez szerintem fura. Most el kell fogadniuk, hogy a vezetők döntése áll és ez van. Erre elég egy email is. nem kell ilyen tájékoztató fórum. De a ma esti tájékoztatást, videót, emailt én is fontosnak tartok. HOgy mik fognak történni az elkövetkezendő három napban, és mik azok az elvek, amik mentén később fogunk működni.    Kofi: Főzi +1. Levél vagy videó szerintem holnap délelőtt legyen. Az udvarra hívás rosszabbul venné ki magát szerintem, be vannak rúgva. Inkább lenne negatívabb, rossz érzést keltő hangulata. Softabb kezelés kell, a határidő is soft, mert vasárnap a határidő.     BartaMarci: Ne úgy kommunikáljunk, hogy mi vagyunk a felnőttek, ők meg a gyerekek. Ezek kormányrendleetek. Fel van függesztve az általános jogrend (pl GDPR). Egyik oldalról ne dramatizáljuk túl a dolgokat, de ez egy komoly dolog, amihez alkalmazkodnunk kell. Felesleges ilyen beszélgetéseket összehívni. A kommunikációs narratívát tények felé vigyük el. Akinek praktikus jellegű problémája van, az szóljon (munka, amit nem hagyhat itt vagy idős hozzátartozó). Ilyenkor lehet segítséget nyújtani.    Zsuzsi: Információs aszimmetria van a koliban, eddig mi sem voltunk tisztában sok mindennel. Amit a Marci elmondott itt, azt mondjuk el nekik is objektíven. Ne legyen kibeszélő fórum sem, bármilyen hullámot elindíthatunk vele.     Attila: Konszenzus van talán már. DB tagok vállalják fel azt a felelősséget, hogy beszélgetnek egyesével az emberekkel, mint a szobaosztókor. Hétfőn pedig beszéljünk az általános működésről. Az 50 éves évfordulós ünnepséget pl mindenképpen mondjuk le hétfőn, halasszuk el. Ezt csak a VMCS csinálhatja meg.')"
      ]
     },
     "execution_count": 181,
     "metadata": {},
     "output_type": "execute_result"
    }
   ],
   "source": [
    "vec_from_doc(\n",
    "    \"Covid-19 megbeszélés - 2020. március 12_.docx\",\n",
    "    \"C:\\\\Users\\\\hobot\\\\Documents\\\\Prog2\\\\seeker\\\\text\\\\jegyzok\\\\\",\n",
    "    model,\n",
    ")"
   ]
  },
  {
   "cell_type": "markdown",
   "id": "ff5b4b93",
   "metadata": {},
   "source": [
    "#### Ez már process rész lenne. Itt készítünk egy dataframe-et címekből (id) és vectorokból (a szövegek model szerinti vektorizált formája)"
   ]
  },
  {
   "cell_type": "code",
   "execution_count": 184,
   "id": "385d1111",
   "metadata": {},
   "outputs": [],
   "source": [
    "vectors = []\n",
    "ids = []\n",
    "documents = []\n",
    "for file_name in os.listdir(\"C:\\\\Users\\\\hobot\\\\Documents\\\\Prog2\\\\seeker\\\\text\\\\jegyzok\"):\n",
    "    vec, doc = vec_from_doc(file_name,\"C:\\\\Users\\\\hobot\\\\Documents\\\\Prog2\\\\seeker\\\\text\\\\jegyzok\\\\\" ,model)\n",
    "    ids.append(file_name)\n",
    "    vectors.append(vec)\n",
    "    documents.append(doc)"
   ]
  },
  {
   "cell_type": "code",
   "execution_count": 185,
   "id": "6280b1d9",
   "metadata": {},
   "outputs": [],
   "source": [
    "vector_df = pd.DataFrame()\n",
    "vector_df[\"ids\"] = ids\n",
    "vector_df[\"documents\"] = documents\n",
    "vector_df[\"vectors\"] = vectors"
   ]
  },
  {
   "cell_type": "markdown",
   "id": "9b0190e6",
   "metadata": {},
   "source": [
    "#### Ami itt jön az lenne a betáplált jegyzőkönyv. Docx-ben az appra feltöltve. Ezt nevezem példának."
   ]
  },
  {
   "cell_type": "code",
   "execution_count": 189,
   "id": "eb193245",
   "metadata": {},
   "outputs": [],
   "source": [
    "pelda, pelda_doc = vec_from_doc(\"jegyzo_pelda.docx\",\"C:\\\\Users\\\\hobot\\\\Documents\\\\Prog2\\\\seeker\\\\text\\\\\", model)"
   ]
  },
  {
   "cell_type": "markdown",
   "id": "51694c4b",
   "metadata": {},
   "source": [
    "#### Building a tree"
   ]
  },
  {
   "cell_type": "code",
   "execution_count": 190,
   "id": "66384b7b",
   "metadata": {},
   "outputs": [],
   "source": [
    "tree_df = pd.DataFrame(list(map(np.ravel, vectors)))\n",
    "tree = cKDTree(tree_df)"
   ]
  },
  {
   "cell_type": "markdown",
   "id": "20e2ac7a",
   "metadata": {},
   "source": [
    "#### Query"
   ]
  },
  {
   "cell_type": "code",
   "execution_count": 191,
   "id": "f1da37a4",
   "metadata": {},
   "outputs": [
    {
     "data": {
      "text/html": [
       "<div>\n",
       "<style scoped>\n",
       "    .dataframe tbody tr th:only-of-type {\n",
       "        vertical-align: middle;\n",
       "    }\n",
       "\n",
       "    .dataframe tbody tr th {\n",
       "        vertical-align: top;\n",
       "    }\n",
       "\n",
       "    .dataframe thead th {\n",
       "        text-align: right;\n",
       "    }\n",
       "</style>\n",
       "<table border=\"1\" class=\"dataframe\">\n",
       "  <thead>\n",
       "    <tr style=\"text-align: right;\">\n",
       "      <th></th>\n",
       "      <th>ids</th>\n",
       "      <th>documents</th>\n",
       "      <th>vectors</th>\n",
       "    </tr>\n",
       "  </thead>\n",
       "  <tbody>\n",
       "    <tr>\n",
       "      <th>6</th>\n",
       "      <td>DB Jegyző - 2022.06.13..docx</td>\n",
       "      <td>Múlthét  Lugas teaház  Geri  Nem annyira megy ...</td>\n",
       "      <td>[0.1503911, -0.024809964, -0.29545856, -0.1886...</td>\n",
       "    </tr>\n",
       "    <tr>\n",
       "      <th>22</th>\n",
       "      <td>DB Jegyzőkönyv - 2020.10.19.docx</td>\n",
       "      <td>DB Napirend \"Wu Tang Forever\"  26. ülés 2020.1...</td>\n",
       "      <td>[0.15954399, -0.008523128, -0.3089367, -0.1811...</td>\n",
       "    </tr>\n",
       "    <tr>\n",
       "      <th>31</th>\n",
       "      <td>DB jegyzőkönyv 2020.03.02.docx</td>\n",
       "      <td>DB Napirend \"A párttal, a néppel\"  3. ülés 202...</td>\n",
       "      <td>[0.15086332, -0.016550845, -0.25528255, -0.186...</td>\n",
       "    </tr>\n",
       "    <tr>\n",
       "      <th>19</th>\n",
       "      <td>DB Jegyzőkönyv - 2020.09.07.docx</td>\n",
       "      <td>DB Napirend   20. ülés 2020.09.07   (offline, ...</td>\n",
       "      <td>[0.15505171, -0.004479873, -0.28971046, -0.195...</td>\n",
       "    </tr>\n",
       "  </tbody>\n",
       "</table>\n",
       "</div>"
      ],
      "text/plain": [
       "                                 ids  \\\n",
       "6       DB Jegyző - 2022.06.13..docx   \n",
       "22  DB Jegyzőkönyv - 2020.10.19.docx   \n",
       "31    DB jegyzőkönyv 2020.03.02.docx   \n",
       "19  DB Jegyzőkönyv - 2020.09.07.docx   \n",
       "\n",
       "                                            documents  \\\n",
       "6   Múlthét  Lugas teaház  Geri  Nem annyira megy ...   \n",
       "22  DB Napirend \"Wu Tang Forever\"  26. ülés 2020.1...   \n",
       "31  DB Napirend \"A párttal, a néppel\"  3. ülés 202...   \n",
       "19  DB Napirend   20. ülés 2020.09.07   (offline, ...   \n",
       "\n",
       "                                              vectors  \n",
       "6   [0.1503911, -0.024809964, -0.29545856, -0.1886...  \n",
       "22  [0.15954399, -0.008523128, -0.3089367, -0.1811...  \n",
       "31  [0.15086332, -0.016550845, -0.25528255, -0.186...  \n",
       "19  [0.15505171, -0.004479873, -0.28971046, -0.195...  "
      ]
     },
     "execution_count": 191,
     "metadata": {},
     "output_type": "execute_result"
    }
   ],
   "source": [
    "dist, ind = tree.query(pelda, 4)\n",
    "vector_df.iloc[ind]"
   ]
  },
  {
   "cell_type": "code",
   "execution_count": 80,
   "id": "5b5c29ca",
   "metadata": {},
   "outputs": [],
   "source": [
    "pelda = np.nanmean(\n",
    "    np.array([model.wv.get_vector(word) for word in pelda_text.split(\" \")]), axis=0\n",
    ")"
   ]
  },
  {
   "cell_type": "code",
   "execution_count": null,
   "id": "d15995d0",
   "metadata": {},
   "outputs": [],
   "source": [
    "from typing import TYPE_CHECKING\n",
    "from seeker.search.base import BaseModel\n",
    "#model = load_facebook_model('hu.szte.w2v.fasttext.bin')\n",
    "\n",
    "if TYPE_CHECKING:\n",
    "    from pathlib import Path\n",
    "\n",
    "\n",
    "class NumericModel(BaseModel):\n",
    "    SEARCH_DIST = \"cosine\"\n",
    "\n",
    "    @staticmethod\n",
    "    def read_file(path: \"Path\"):\n",
    "        doc = textract.process(path).decode(\"UTF-8\").replace(\"\\n\", \" \")\n",
    "        tokens = tokenize(doc)\n",
    "        return tokens\n",
    "\n",
    "    @staticmethod\n",
    "    def preprocess(data: str):\n",
    "        return np.nanmean(np.array([model.wv.get_vector(word) for word in data]), axis=0)"
   ]
  },
  {
   "cell_type": "code",
   "execution_count": null,
   "id": "f529aca8",
   "metadata": {},
   "outputs": [],
   "source": []
  }
 ],
 "metadata": {
  "kernelspec": {
   "display_name": "Python 3 (ipykernel)",
   "language": "python",
   "name": "python3"
  },
  "language_info": {
   "codemirror_mode": {
    "name": "ipython",
    "version": 3
   },
   "file_extension": ".py",
   "mimetype": "text/x-python",
   "name": "python",
   "nbconvert_exporter": "python",
   "pygments_lexer": "ipython3",
   "version": "3.9.12"
  }
 },
 "nbformat": 4,
 "nbformat_minor": 5
}
